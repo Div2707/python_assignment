{
 "cells": [
  {
   "cell_type": "code",
   "execution_count": 11,
   "id": "697c6447-1b68-4d8f-bd41-ee88f5044d1f",
   "metadata": {},
   "outputs": [],
   "source": [
    "d = {'admin':'divyansh123@4'}\n",
    "d2= {'admin':'max'}\n"
   ]
  },
  {
   "cell_type": "code",
   "execution_count": 7,
   "id": "c4e7a406-29ac-49c0-b316-0188884f5fd7",
   "metadata": {},
   "outputs": [
    {
     "name": "stdout",
     "output_type": "stream",
     "text": [
      "{'admin': 'divyansh123@4'}\n"
     ]
    }
   ],
   "source": [
    "print(d)"
   ]
  },
  {
   "cell_type": "code",
   "execution_count": 12,
   "id": "4123435b-5c2b-4650-b59a-9816338be3df",
   "metadata": {},
   "outputs": [
    {
     "ename": "TypeError",
     "evalue": "changepassword() missing 2 required positional arguments: 'userup' and 'd'",
     "output_type": "error",
     "traceback": [
      "\u001b[1;31m---------------------------------------------------------------------------\u001b[0m",
      "\u001b[1;31mTypeError\u001b[0m                                 Traceback (most recent call last)",
      "\u001b[1;32m~\\AppData\\Local\\Temp\\ipykernel_12448\\1247126856.py\u001b[0m in \u001b[0;36m<module>\u001b[1;34m\u001b[0m\n\u001b[0;32m     21\u001b[0m     \u001b[1;32melse\u001b[0m\u001b[1;33m:\u001b[0m\u001b[1;33m\u001b[0m\u001b[1;33m\u001b[0m\u001b[0m\n\u001b[0;32m     22\u001b[0m         \u001b[0mprint\u001b[0m\u001b[1;33m(\u001b[0m\u001b[1;34m\"invalid password\"\u001b[0m\u001b[1;33m)\u001b[0m\u001b[1;33m\u001b[0m\u001b[1;33m\u001b[0m\u001b[0m\n\u001b[1;32m---> 23\u001b[1;33m \u001b[0mchangepassword\u001b[0m\u001b[1;33m(\u001b[0m\u001b[1;33m)\u001b[0m\u001b[1;33m\u001b[0m\u001b[1;33m\u001b[0m\u001b[0m\n\u001b[0m\u001b[0;32m     24\u001b[0m \u001b[1;33m\u001b[0m\u001b[0m\n\u001b[0;32m     25\u001b[0m \u001b[1;33m\u001b[0m\u001b[0m\n",
      "\u001b[1;31mTypeError\u001b[0m: changepassword() missing 2 required positional arguments: 'userup' and 'd'"
     ]
    }
   ],
   "source": [
    "def changepassword(userup,d):\n",
    "    userup=input(\"enter username\")\n",
    "    new_pass=input(\"enter password\")\n",
    "    l, u,p,d = 0,0,0,0\n",
    "    if (len(new_pass)>=8):\n",
    "        for i in new_pass:\n",
    "            if(i.islower()):\n",
    "                l+=1\n",
    "            if(i.isupper()):\n",
    "                u+=1\n",
    "            if(i.isdigit()):\n",
    "                \n",
    "                d+=1\n",
    "            elif(i=='@'or i=='$' or i=='_'):\n",
    "                p+=1    \n",
    "    if(l>=1 and u>=1 and p>=1 and d>=1 and l+p+u+d==len(new_pass)):\n",
    "        \n",
    "        confirm_pass=input(\"enter password again\")\n",
    "        if new_pass== confirm_pass:\n",
    "            d[userup] = new_pass\n",
    "    else:\n",
    "        print(\"invalid password\")\n",
    "changepassword()        \n",
    "            \n",
    "            \n",
    "        "
   ]
  },
  {
   "cell_type": "code",
   "execution_count": 2,
   "id": "908073fd-e6f4-44d5-a3e0-6efb3bcbdd7a",
   "metadata": {},
   "outputs": [
    {
     "name": "stdin",
     "output_type": "stream",
     "text": [
      "enter password 0\n"
     ]
    },
    {
     "name": "stdout",
     "output_type": "stream",
     "text": [
      "Invalid Password\n"
     ]
    }
   ],
   "source": [
    "def checkpasswordstrength():\n",
    "    pa = input(\"enter password\")\n",
    "    l, u,p,d = 0,0,0,0\n",
    "    \n",
    "    if (len(pa) >=8):\n",
    "        for i in pa:\n",
    "           # Your code checks if each character is lowercase, uppercase, and a digit at the same time. This is not possible as a character cannot be both uppercase and lowercase at the same time.\n",
    "            #if (i.islower() and i.isupper() and i.isdigit() ):\n",
    "             #   l+=1\n",
    "              #  u+=1\n",
    "              #  d+=1\n",
    "            if (i.islower()):\n",
    "                l+=1           \n",
    " \n",
    "       \n",
    "            elif (i.isupper()):\n",
    "                u+=1           \n",
    " \n",
    "        \n",
    "            elif (i.isdigit()):\n",
    "                d+=1     \n",
    "            \n",
    "            elif(i=='@'or i=='$' or i=='_'):\n",
    "                p+=1\n",
    "    if (l>=1 and u>=1 and p>=1 and d>=1 and l+p+u+d==len(s)):\n",
    "        print(\"Valid Password\")\n",
    "    else:\n",
    "        print(\"Invalid Password\")           \n",
    "                          \n",
    "checkpasswordstrength()"
   ]
  },
  {
   "cell_type": "code",
   "execution_count": 3,
   "id": "63ba8e7e-ce1a-491a-822f-09398884bbfb",
   "metadata": {},
   "outputs": [],
   "source": [
    "def signin():\n",
    "    while True:\n",
    "        user1=input(\"enter username\").lower()\n",
    "        if user1 == \"0\":\n",
    "            return \"failed\"\n",
    "        \n",
    "        if user1 in d:\n",
    "            str1 = 3\n",
    "            while st1:\n",
    "                passup = input(\"enter your password\")\n",
    "                if d[user1]== passup:\n",
    "                    return\"sucessfully logged in\"\n",
    "                else:\n",
    "                    print(\"try again\")\n",
    "                    str1 = -1\n",
    "            return \"failed\"\n",
    "        else:\n",
    "            print('''username doesn't exists.... please try another ....\n",
    "                       press 0 to exit\n",
    "                        or''')\n",
    "#signin()                \n",
    "                \n",
    "    \n",
    "    "
   ]
  },
  {
   "cell_type": "code",
   "execution_count": 4,
   "id": "6e098258-974b-45a0-8cef-e1e2153aafac",
   "metadata": {},
   "outputs": [],
   "source": [
    "def signup():\n",
    "    \n",
    "    while 1:\n",
    "        userup = input(\"enter username\")\n",
    "        if userup == \"0\":\n",
    "            return \"failed\"\n",
    "        if userup not in d:\n",
    "            passup = input(\"enter password\")\n",
    "            if checkpasswordstrength(passup):\n",
    "                str1 = 3\n",
    "                while sf1:\n",
    "                    passup2 = input(\"enter password again\")\n",
    "                    if passup == passup2:\n",
    "                        d.update({userup:passup})\n",
    "                        return \" sucessful\"\n",
    "                    else:\n",
    "                        print( \"password doesnot match\")\n",
    "                \n",
    "                return \"failed\"\n",
    "        else:\n",
    "            print('''username already exists.... please try another ....\n",
    "                       press 0 to exit\n",
    "                        or''')\n",
    "#signup()                \n",
    "                    \n",
    "\n",
    "        "
   ]
  },
  {
   "cell_type": "code",
   "execution_count": null,
   "id": "e87d064d-8d9b-4651-9a65-298cc56945de",
   "metadata": {},
   "outputs": [],
   "source": []
  },
  {
   "cell_type": "code",
   "execution_count": null,
   "id": "a63548a3-c214-4634-938a-b705507c1382",
   "metadata": {},
   "outputs": [
    {
     "name": "stdout",
     "output_type": "stream",
     "text": [
      "4553\n"
     ]
    },
    {
     "name": "stdin",
     "output_type": "stream",
     "text": [
      "enter your username:  4553\n"
     ]
    },
    {
     "name": "stdout",
     "output_type": "stream",
     "text": [
      "username doesn't exist. please try again...\n",
      "        press 0 to exist\n",
      "        or\n"
     ]
    }
   ],
   "source": [
    "def getotp():\n",
    "    otp= generateotp()\n",
    "    userin = input(\"enter username\").lower()\n",
    "    if userin == \"0\":\n",
    "        return \"failed\"\n",
    "    if userin in d2:\n",
    "        str1 =3\n",
    "        while str1:\n",
    "            otp1=int(input(\"enter opt\"))\n",
    "            if otp == otp1:\n",
    "                newpass = input(\"enter otp\")\n",
    "                d.update({userin:newpass})\n",
    "                print(\"password changed sucessful\")\n",
    "                return \"succesfull\"\n",
    "                \n",
    "            else :\n",
    "                print(\"username doesnot found\")\n",
    "                str =-1\n",
    "        return \"failed\"\n",
    "    else:\n",
    "         print('''username doesn't exist. please try again...\n",
    "        press 0 to exist\n",
    "        or''')\n",
    "            \n",
    "               \n",
    "#getotp()            \n",
    "                        \n",
    "       \n",
    "        \n"
   ]
  },
  {
   "cell_type": "code",
   "execution_count": 51,
   "id": "9a68e597-31b5-4390-a3fa-197e050d074b",
   "metadata": {},
   "outputs": [
    {
     "name": "stdout",
     "output_type": "stream",
     "text": [
      "press 1 for petname \n",
      "press 2 for otp\n"
     ]
    },
    {
     "name": "stdin",
     "output_type": "stream",
     "text": [
      "enter 1\n"
     ]
    },
    {
     "ename": "NameError",
     "evalue": "name 'otp' is not defined",
     "output_type": "error",
     "traceback": [
      "\u001b[1;31m---------------------------------------------------------------------------\u001b[0m",
      "\u001b[1;31mNameError\u001b[0m                                 Traceback (most recent call last)",
      "\u001b[1;32m~\\AppData\\Local\\Temp\\ipykernel_14368\\2077825298.py\u001b[0m in \u001b[0;36m<module>\u001b[1;34m\u001b[0m\n\u001b[0;32m      8\u001b[0m     \u001b[1;32melse\u001b[0m\u001b[1;33m:\u001b[0m\u001b[1;33m\u001b[0m\u001b[1;33m\u001b[0m\u001b[0m\n\u001b[0;32m      9\u001b[0m         \u001b[1;32mreturn\u001b[0m \u001b[1;34m\"invalid input\"\u001b[0m\u001b[1;33m\u001b[0m\u001b[1;33m\u001b[0m\u001b[0m\n\u001b[1;32m---> 10\u001b[1;33m \u001b[0mforget\u001b[0m\u001b[1;33m(\u001b[0m\u001b[1;33m)\u001b[0m\u001b[1;33m\u001b[0m\u001b[1;33m\u001b[0m\u001b[0m\n\u001b[0m\u001b[0;32m     11\u001b[0m \u001b[1;33m\u001b[0m\u001b[0m\n",
      "\u001b[1;32m~\\AppData\\Local\\Temp\\ipykernel_14368\\2077825298.py\u001b[0m in \u001b[0;36mforget\u001b[1;34m()\u001b[0m\n\u001b[0;32m      3\u001b[0m     \u001b[0mt\u001b[0m\u001b[1;33m=\u001b[0m \u001b[0minput\u001b[0m\u001b[1;33m(\u001b[0m\u001b[1;34m\"enter\"\u001b[0m\u001b[1;33m)\u001b[0m\u001b[1;33m\u001b[0m\u001b[1;33m\u001b[0m\u001b[0m\n\u001b[0;32m      4\u001b[0m     \u001b[1;32mif\u001b[0m \u001b[0mt\u001b[0m\u001b[1;33m==\u001b[0m \u001b[1;34m\"1\"\u001b[0m\u001b[1;33m:\u001b[0m\u001b[1;33m\u001b[0m\u001b[1;33m\u001b[0m\u001b[0m\n\u001b[1;32m----> 5\u001b[1;33m         \u001b[0motp\u001b[0m\u001b[1;33m(\u001b[0m\u001b[1;33m)\u001b[0m\u001b[1;33m\u001b[0m\u001b[1;33m\u001b[0m\u001b[0m\n\u001b[0m\u001b[0;32m      6\u001b[0m     \u001b[1;32melif\u001b[0m \u001b[0mt\u001b[0m\u001b[1;33m==\u001b[0m \u001b[1;34m\"2\"\u001b[0m\u001b[1;33m:\u001b[0m\u001b[1;33m\u001b[0m\u001b[1;33m\u001b[0m\u001b[0m\n\u001b[0;32m      7\u001b[0m         \u001b[0mpetname\u001b[0m\u001b[1;33m(\u001b[0m\u001b[1;33m)\u001b[0m\u001b[1;33m\u001b[0m\u001b[1;33m\u001b[0m\u001b[0m\n",
      "\u001b[1;31mNameError\u001b[0m: name 'otp' is not defined"
     ]
    }
   ],
   "source": [
    "def forget():\n",
    "    print('''press 1 for petname \\npress 2 for otp''')\n",
    "    t= input(\"enter\")\n",
    "    if t== \"1\":\n",
    "        otp()\n",
    "    elif t== \"2\":\n",
    "        petname()\n",
    "    else:\n",
    "        return \"invalid input\"\n",
    "#forget()    \n",
    "    "
   ]
  },
  {
   "cell_type": "code",
   "execution_count": 6,
   "id": "c76b31c3-7a84-4556-b8b0-77304c9a4842",
   "metadata": {},
   "outputs": [],
   "source": [
    "def generateotp():\n",
    "    import os\n",
    "    from twilio.rest import Client\n",
    "    # Download the helper library from https://www.twilio.com/docs/python/install\n",
    "\n",
    "    account_sid = \"AC69566ea98fe9f66826155286c5370bfa\"\n",
    "    auth_token = \"b61bf48eeb87f2d40b25b1efa00b8427\"\n",
    "    client = Client(account_sid, auth_token)\n",
    "    import random\n",
    "    c= random.randint(1000,9999)\n",
    "    msg = 'your OTP is  '+str(c)\n",
    "    message = client.messages.create(\n",
    "      body=\"Hello from divyansh\",\n",
    "      from_=\"+15855221595\",\n",
    "      to=\"+918989134018\"\n",
    "    )\n",
    "    print(c)\n",
    "#generateotp()   "
   ]
  },
  {
   "cell_type": "code",
   "execution_count": null,
   "id": "d8e79781-63e4-4e88-8657-13439c450e3c",
   "metadata": {},
   "outputs": [
    {
     "name": "stdin",
     "output_type": "stream",
     "text": [
      "enter username admin\n",
      "enter petname petname\n"
     ]
    },
    {
     "name": "stdout",
     "output_type": "stream",
     "text": [
      "username doesnot found\n"
     ]
    },
    {
     "name": "stdin",
     "output_type": "stream",
     "text": [
      "enter petname 0\n"
     ]
    },
    {
     "name": "stdout",
     "output_type": "stream",
     "text": [
      "username doesnot found\n"
     ]
    }
   ],
   "source": [
    "def petname():\n",
    "    while 1:\n",
    "        \n",
    "        userin = input(\"enter username\").lower()\n",
    "        if userin == \"0\":\n",
    "            return \"failed\"\n",
    "        if userin in d2:\n",
    "            str1 =3\n",
    "            while str1:\n",
    "                fq=input(f'enter petname {userin}:')\n",
    "                if d2[userin] == fq:\n",
    "                    newpass = input(\"enter new password\")\n",
    "                    d.update({userin:newpass})\n",
    "                    print(\"password changed sucessful\")\n",
    "                    return \"succesfull\"\n",
    "\n",
    "                else :\n",
    "                    print(\"username doesnot found\")\n",
    "                    str1 -=1\n",
    "            return \"failed\"\n",
    "        else:\n",
    "             print('''username doesn't exist. please try again...\n",
    "            press 0 to exist\n",
    "            or''')\n",
    "petname()    \n",
    "    "
   ]
  },
  {
   "cell_type": "code",
   "execution_count": null,
   "id": "f3f6b886-1f68-4378-9b8f-42e35e562e77",
   "metadata": {},
   "outputs": [
    {
     "name": "stdin",
     "output_type": "stream",
     "text": [
      "choose mode:\n",
      "    press 1 to signup\n",
      "    press 2 to sign in\n",
      "    : 1\n"
     ]
    },
    {
     "name": "stdout",
     "output_type": "stream",
     "text": [
      "signup None\n"
     ]
    },
    {
     "name": "stdin",
     "output_type": "stream",
     "text": [
      "choose mode:\n",
      "    press 1 to signup\n",
      "    press 2 to sign in\n",
      "    : 2\n"
     ]
    },
    {
     "name": "stdout",
     "output_type": "stream",
     "text": [
      "signin None\n"
     ]
    },
    {
     "name": "stdin",
     "output_type": "stream",
     "text": [
      "choose mode:\n",
      "    press 1 to signup\n",
      "    press 2 to sign in\n",
      "    : 1\n"
     ]
    },
    {
     "name": "stdout",
     "output_type": "stream",
     "text": [
      "signup None\n"
     ]
    }
   ],
   "source": [
    "while 1:\n",
    "    mode= input('''\\nchoose mode:\n",
    "    press 1 to signup\n",
    "    press 2 to signin\n",
    "    press 0 to exist\n",
    "    press 3 to forget password\n",
    "    :''')\n",
    "    if mode == '1':\n",
    "        X=signup()\n",
    "        print('signup',X)\n",
    "    elif mode == '2':\n",
    "        signin()\n",
    "        print('signin')\n",
    "    elif mode == '0':\n",
    "        print('thankyou')\n",
    "        break\n",
    "    elif mode=='3':\n",
    "        forget()\n",
    "        break\n",
    "    else:\n",
    "        print('enter a valid input...')"
   ]
  },
  {
   "cell_type": "code",
   "execution_count": null,
   "id": "249b2438-0db8-468a-b330-73153d35f67f",
   "metadata": {},
   "outputs": [],
   "source": []
  }
 ],
 "metadata": {
  "kernelspec": {
   "display_name": "Python 3 (ipykernel)",
   "language": "python",
   "name": "python3"
  },
  "language_info": {
   "codemirror_mode": {
    "name": "ipython",
    "version": 3
   },
   "file_extension": ".py",
   "mimetype": "text/x-python",
   "name": "python",
   "nbconvert_exporter": "python",
   "pygments_lexer": "ipython3",
   "version": "3.11.2"
  }
 },
 "nbformat": 4,
 "nbformat_minor": 5
}
